{
 "cells": [
  {
   "cell_type": "code",
   "execution_count": 47,
   "metadata": {},
   "outputs": [],
   "source": [
    "from bs4 import BeautifulSoup\n",
    "from bs4.element import Tag\n",
    "import spacy\n",
    "import markdown\n",
    "\n",
    "# Load Spacy's English model\n",
    "nlp = spacy.load('en_core_web_sm')"
   ]
  },
  {
   "cell_type": "code",
   "execution_count": 52,
   "metadata": {},
   "outputs": [],
   "source": [
    "def html_to_markdown(html_content):\n",
    "    soup = BeautifulSoup(html_content, 'html.parser')\n",
    "\n",
    "    # Find all the div elements\n",
    "    div_tags = soup.find_all('div')\n",
    "\n",
    "    # For each div, count the number of tokens in the text within the div\n",
    "    divs_and_token_counts = [(div, len(div.text.split())) for div in div_tags]\n",
    "\n",
    "    # Find the div with the most tokens\n",
    "    main_content_div, _ = max(divs_and_token_counts, key=lambda item: item[1])\n",
    "\n",
    "    # Find all the elements within this div that could contain relevant information\n",
    "    relevant_tags = main_content_div.find_all(['h1', 'h2', 'h3', 'h4', 'h5', 'h6', 'p', 'pre', 'code', 'img', 'math', 'mi', 'footer', 'span'])\n",
    "\n",
    "    markdown_content = \"\"\n",
    "\n",
    "    for tag in relevant_tags:\n",
    "        if isinstance(tag, Tag):\n",
    "            # Stop processing if we encounter a footer tag\n",
    "            if tag.name == 'footer':\n",
    "                break\n",
    "            # Add headers\n",
    "            elif tag.name in ['h1', 'h2', 'h3', 'h4', 'h5', 'h6']:\n",
    "                markdown_content += f\"\\n{'#' * int(tag.name[1:])} {tag.text}\\n\"\n",
    "            # Add paragraphs\n",
    "            elif tag.name == 'p':\n",
    "                markdown_content += f\"\\n{tag.text}\\n\"\n",
    "            # Add preformatted text (code)\n",
    "            elif tag.name == 'pre' or (tag.name == 'code' and tag.parent.name == 'pre'):\n",
    "                markdown_content += f\"\\n```\\n{tag.text}\\n```\\n\"\n",
    "            # Add images\n",
    "            elif tag.name == 'img':\n",
    "                markdown_content += f\"\\n![{tag.get('alt', '')}]({tag.get('src', '')})\\n\"\n",
    "            # Add math content\n",
    "            elif tag.name == 'span' and 'MathJax' in tag.get('class', []):\n",
    "                math_content = tag.get('data-mathml')\n",
    "                if 'MathJax_FullWidth' in tag.get('class', []):\n",
    "                    # Block equation\n",
    "                    markdown_content += f\"\\n$$\\n{math_content}\\n$$\\n\"\n",
    "                else:\n",
    "                    # Inline equation\n",
    "                    markdown_content += f\"${math_content}$\"\n",
    "\n",
    "    return markdown_content"
   ]
  },
  {
   "cell_type": "code",
   "execution_count": 53,
   "metadata": {},
   "outputs": [],
   "source": [
    "# Read the HTML content from a file\n",
    "with open('test.html', 'r') as file:\n",
    "        html_content = file.read()\n",
    "\n",
    "# Convert the HTML content to Markdown\n",
    "markdown_content = html_to_markdown(html_content)\n",
    "\n",
    "# Write the Markdown content to a file\n",
    "with open('output.md', 'w') as file:\n",
    "        file.write(markdown_content)\n",
    "\n"
   ]
  },
  {
   "cell_type": "code",
   "execution_count": null,
   "metadata": {},
   "outputs": [],
   "source": []
  }
 ],
 "metadata": {
  "kernelspec": {
   "display_name": "smartdown-ErYaq9q1-py3.11",
   "language": "python",
   "name": "python3"
  },
  "language_info": {
   "codemirror_mode": {
    "name": "ipython",
    "version": 3
   },
   "file_extension": ".py",
   "mimetype": "text/x-python",
   "name": "python",
   "nbconvert_exporter": "python",
   "pygments_lexer": "ipython3",
   "version": "3.11.2"
  },
  "orig_nbformat": 4
 },
 "nbformat": 4,
 "nbformat_minor": 2
}
